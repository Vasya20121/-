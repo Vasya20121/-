{
 "cells": [
  {
   "cell_type": "code",
   "execution_count": 236,
   "metadata": {},
   "outputs": [
    {
     "name": "stdout",
     "output_type": "stream",
     "text": [
      "1.0000000000000002\n"
     ]
    }
   ],
   "source": [
    "import numpy as np\n",
    "Px = np.array([0.22, 0.13, 0.05, 0.06, 0.12, 0.05, 0.01, 0.11, 0.02, 0.04, 0.08, 0.02, 0.02, 0.01, 0.05, 0.01])\n",
    "\n",
    "Py_x = np.array([[0.91,   0.07,   0.01, 0.01, 0,    0,    0,    0,    0,    0,    0,    0,    0,    0,    0,    0],\n",
    "                 [0.02,   0.98,   0,    0,    0,    0,    0,    0,    0,    0,    0,    0,    0,    0,    0,    0],\n",
    "                 [0,      0.02,   0.97, 0.01, 0,    0,    0,    0,    0,    0,    0,    0,    0,    0,    0,    0],\n",
    "                 [0,      0.02,   0.02, 0.94, 0.02, 0,    0,    0,    0,    0,    0,    0,    0,    0,    0,    0],\n",
    "                 [0,      0,      0,    0.03, 0.96, 0.01, 0,    0,    0,    0,    0,    0,    0,    0,    0,    0],\n",
    "                 [0,      0,      0,    0,    0,    1,    0,    0,    0,    0,    0,    0,    0,    0,    0,    0],\n",
    "                 [0,      0,      0,    0,    0.01, 0.03, 0.94, 0.02, 0,    0,    0,    0,    0,    0,    0,    0],\n",
    "                 [0,      0,      0,    0,    0,    0,    0.04, 0.96, 0,    0,    0,    0,    0,    0,    0,    0],\n",
    "                 [0,      0,      0,    0,    0,    0,    0,    0.01, 0.98, 0.01, 0,    0,    0,    0,    0,    0],\n",
    "                 [0,      0,      0,    0,    0,    0,    0,    0.01, 0.01, 0.96, 0.01, 0.01, 0,    0,    0,    0],\n",
    "                 [0,      0,      0,    0,    0,    0,    0,    0,    0,    0.01, 0.96, 0.03, 0,    0,    0,    0],\n",
    "                 [0,      0,      0,    0,    0,    0,    0,    0,    0,    0.01, 0.01, 0.95, 0.02, 0.01, 0,    0],\n",
    "                 [0,      0,      0,    0,    0,    0,    0,    0,    0,    0,    0,    0.02, 0.96, 0.02, 0,    0],\n",
    "                 [0,      0,      0,    0,    0,    0,    0,    0,    0,    0,    0,    0,    0.02, 0.96, 0.02, 0],\n",
    "                 [0,      0,      0,    0,    0,    0,    0,    0,    0,    0,    0,    0,    0,    0,    0.95, 0.05],\n",
    "                 [0,      0,      0,    0,    0,    0,    0,    0,    0,    0,    0,    0,    0,    0.01, 0.01, 0.98]])\n",
    "res = 0\n",
    "for i in P:\n",
    "    res += i\n",
    "print(res)"
   ]
  },
  {
   "cell_type": "markdown",
   "metadata": {},
   "source": [
    "# №1. Ентропія джерела інформації - H(X)"
   ]
  },
  {
   "cell_type": "code",
   "execution_count": 237,
   "metadata": {},
   "outputs": [
    {
     "name": "stdout",
     "output_type": "stream",
     "text": [
      "H(X) =  3.4876041279031615\n"
     ]
    }
   ],
   "source": [
    "#Ентропія джерела інформації - H(X)\n",
    "Hx = 0\n",
    "for i in Px:\n",
    "    Hx += -1*(i*np.log2(i))\n",
    "print(\"H(X) = \", Hx)"
   ]
  },
  {
   "cell_type": "markdown",
   "metadata": {},
   "source": [
    "# №2. Безумовна ентропія приймача інформації - H(Y)"
   ]
  },
  {
   "cell_type": "code",
   "execution_count": 238,
   "metadata": {},
   "outputs": [
    {
     "name": "stdout",
     "output_type": "stream",
     "text": [
      "p(y) =  [0.2028, 0.14500000000000002, 0.0519, 0.06269999999999999, 0.1165, 0.051500000000000004, 0.0138, 0.10640000000000001, 0.02, 0.039599999999999996, 0.0774, 0.0222, 0.019799999999999998, 0.010299999999999998, 0.0478, 0.0123]\n",
      "sum(p(y)) =  1.0\n",
      "H(Y) =  3.526508502497863\n"
     ]
    }
   ],
   "source": [
    "#Безумовна ентропія приймача інформації - H(Y) та ймовірності появи символів на вході приймача p(y)\n",
    "Hy = 0\n",
    "Py = []\n",
    "Py_i = 0\n",
    "for i in range(0, len(Py_x)):\n",
    "    Py_i = 0\n",
    "    for j in range(0, len(Px)):\n",
    "        Py_i += Px[j]*Py_x[j][i] # p(y) = sum(p(x(i)*p(y(j)/x(i)))\n",
    "    Hy += (-1)*(Py_i)*np.log2(Py_i)   \n",
    "    Py.append(Py_i)\n",
    "    Py_i = 0 #temp\n",
    "print(\"p(y) = \", Py)\n",
    "print(\"sum(p(y)) = \", sum(Py))\n",
    "print(\"H(Y) = \", Hy)"
   ]
  },
  {
   "cell_type": "markdown",
   "metadata": {},
   "source": [
    "# №3. Повні умовні ентропії - H(Y/X), H(X/Y)"
   ]
  },
  {
   "cell_type": "code",
   "execution_count": 239,
   "metadata": {},
   "outputs": [
    {
     "name": "stdout",
     "output_type": "stream",
     "text": [
      "H(Y/X) =  0.30431560246594586\n"
     ]
    }
   ],
   "source": [
    "#Повна умовна ентропія - H(Y/X)\n",
    "import sympy\n",
    "Hy_x = 0\n",
    "for i in range(0, len(Px)):\n",
    "    for j in range(0, len(Py_x)):\n",
    "        Hy_x += (-1)*Px[i]*(Py_x[i][j]*np.log2(Py_x[i][j]+0.00000000000000000001))\n",
    "print(\"H(Y/X) = \", Hy_x)"
   ]
  },
  {
   "cell_type": "code",
   "execution_count": 241,
   "metadata": {},
   "outputs": [
    {
     "name": "stdout",
     "output_type": "stream",
     "text": [
      "H(X/Y) =  0.26541122787124527\n"
     ]
    }
   ],
   "source": [
    "#Повна умовна ентропія H(X/Y)\n",
    "Px_y = []\n",
    "for i in range(0, len(Px)):\n",
    "    x_os = []\n",
    "    x = 0\n",
    "    for j in range(0, len(Py_x)):\n",
    "        x = Px[i]*Py_x[i][j]/Py[j]\n",
    "        x_os.append(x)\n",
    "    Px_y.append(x_os)\n",
    "#print(Px_y)\n",
    "Hx_y = 0 \n",
    "\n",
    "for j in range(0, len(Px)):\n",
    "    \n",
    "    for i in range(0, len(Py_x)):\n",
    "        Hx_y += (-1)*Py[j]*Px_y[i][j]*np.log2(Px_y[i][j]+0.00000000000000000001)\n",
    "print(\"H(X/Y) = \", Hx_y)"
   ]
  },
  {
   "cell_type": "markdown",
   "metadata": {},
   "source": [
    "# H(X) +H(Y/X) = H(Y) + H(X/Y)"
   ]
  },
  {
   "cell_type": "code",
   "execution_count": 259,
   "metadata": {},
   "outputs": [
    {
     "name": "stdout",
     "output_type": "stream",
     "text": [
      "3.7919197303691075  =  3.7919197303691083\n"
     ]
    }
   ],
   "source": [
    "print(Hx+Hy_x, \" = \", Hy+Hx_y)"
   ]
  },
  {
   "cell_type": "markdown",
   "metadata": {},
   "source": [
    "# №4. Швидкість передачі інформації та пропускна способність каналу звязку, якщо щас передачі одного символу первинного алфавіту дорівнює 0.05*18"
   ]
  },
  {
   "cell_type": "code",
   "execution_count": 254,
   "metadata": {},
   "outputs": [
    {
     "name": "stdout",
     "output_type": "stream",
     "text": [
      "k =  0.5\n",
      "k0 =  2000.0\n",
      "C =  6444.385800063835  біт/с\n",
      "Cn =  7391.368795068108  біт/с\n"
     ]
    }
   ],
   "source": [
    "V = 10\n",
    "k = 0.05*V\n",
    "print(\"k = \", k)\n",
    "k0 = 1/(k/1000)\n",
    "print(\"k0 = \", k0)\n",
    "#Швидкість передачі інформації\n",
    "C = k0*(Hy-Hy_x)\n",
    "print(\"C = \", C, \" біт/с\")\n",
    "#Пропускна способність каналу звязку\n",
    "Cn = k0*(np.log2(len(Px))-Hy_x)\n",
    "print(\"Cn = \", Cn, \" біт/с\")\n"
   ]
  },
  {
   "cell_type": "markdown",
   "metadata": {},
   "source": [
    "# №5. Втрати інформації в каналі звязку при передачі 100*18 символів алфавіту"
   ]
  },
  {
   "cell_type": "code",
   "execution_count": 255,
   "metadata": {},
   "outputs": [
    {
     "name": "stdout",
     "output_type": "stream",
     "text": [
      "delta_I =  0.30431560246594586  біт\n",
      "I =  3.261097274626618  біт\n"
     ]
    }
   ],
   "source": [
    "#Втрати інформації в каналі звязку при передачі 100*18 символів алфавіту\n",
    "k = 100*V\n",
    "\n",
    "delta_I = Hy_x\n",
    "print(\"delta_I = \", delta_I, \" біт/символ\")\n",
    "I = (Hy - Hx_y)\n",
    "print(\"I = \", I, \" біт/символ\")"
   ]
  },
  {
   "cell_type": "markdown",
   "metadata": {},
   "source": [
    "# №6. Середня кількість прийнятої інформації"
   ]
  },
  {
   "cell_type": "code",
   "execution_count": 257,
   "metadata": {},
   "outputs": [
    {
     "name": "stdout",
     "output_type": "stream",
     "text": [
      "delta_I =  304.31560246594586  біт\n",
      "I =  3261.097274626618  біт\n"
     ]
    }
   ],
   "source": [
    "#Середня кількість прийнятої інформації\n",
    "k = 100*V\n",
    "\n",
    "delta_I = k*Hy_x\n",
    "print(\"delta_I = \", delta_I, \" біт\")\n",
    "I = k*(Hy - Hx_y)\n",
    "print(\"I = \", I, \" біт\")"
   ]
  },
  {
   "cell_type": "code",
   "execution_count": null,
   "metadata": {},
   "outputs": [],
   "source": []
  }
 ],
 "metadata": {
  "kernelspec": {
   "display_name": "Python 3",
   "language": "python",
   "name": "python3"
  },
  "language_info": {
   "codemirror_mode": {
    "name": "ipython",
    "version": 3
   },
   "file_extension": ".py",
   "mimetype": "text/x-python",
   "name": "python",
   "nbconvert_exporter": "python",
   "pygments_lexer": "ipython3",
   "version": "3.7.3"
  }
 },
 "nbformat": 4,
 "nbformat_minor": 2
}
